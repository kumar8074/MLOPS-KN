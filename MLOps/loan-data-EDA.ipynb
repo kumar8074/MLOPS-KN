{
 "cells": [
  {
   "cell_type": "code",
   "execution_count": 1,
   "id": "2f37d77c-1b25-4381-8924-d1afa09d8a14",
   "metadata": {},
   "outputs": [],
   "source": [
    "import pandas as pd\n",
    "import numpy as np\n",
    "from sklearn.preprocessing import LabelEncoder\n",
    "from sklearn.model_selection import train_test_split"
   ]
  },
  {
   "cell_type": "code",
   "execution_count": 2,
   "id": "0410c006-1e41-4049-bde6-b54480467653",
   "metadata": {},
   "outputs": [
    {
     "data": {
      "text/html": [
       "<div>\n",
       "<style scoped>\n",
       "    .dataframe tbody tr th:only-of-type {\n",
       "        vertical-align: middle;\n",
       "    }\n",
       "\n",
       "    .dataframe tbody tr th {\n",
       "        vertical-align: top;\n",
       "    }\n",
       "\n",
       "    .dataframe thead th {\n",
       "        text-align: right;\n",
       "    }\n",
       "</style>\n",
       "<table border=\"1\" class=\"dataframe\">\n",
       "  <thead>\n",
       "    <tr style=\"text-align: right;\">\n",
       "      <th></th>\n",
       "      <th>loan_id</th>\n",
       "      <th>no_of_dependents</th>\n",
       "      <th>education</th>\n",
       "      <th>self_employed</th>\n",
       "      <th>income_annum</th>\n",
       "      <th>loan_amount</th>\n",
       "      <th>loan_term</th>\n",
       "      <th>cibil_score</th>\n",
       "      <th>residential_assets_value</th>\n",
       "      <th>commercial_assets_value</th>\n",
       "      <th>luxury_assets_value</th>\n",
       "      <th>bank_asset_value</th>\n",
       "      <th>loan_status</th>\n",
       "    </tr>\n",
       "  </thead>\n",
       "  <tbody>\n",
       "    <tr>\n",
       "      <th>0</th>\n",
       "      <td>1</td>\n",
       "      <td>2</td>\n",
       "      <td>Graduate</td>\n",
       "      <td>No</td>\n",
       "      <td>9600000</td>\n",
       "      <td>29900000</td>\n",
       "      <td>12</td>\n",
       "      <td>778</td>\n",
       "      <td>2400000</td>\n",
       "      <td>17600000</td>\n",
       "      <td>22700000</td>\n",
       "      <td>8000000</td>\n",
       "      <td>Approved</td>\n",
       "    </tr>\n",
       "    <tr>\n",
       "      <th>1</th>\n",
       "      <td>2</td>\n",
       "      <td>0</td>\n",
       "      <td>Not Graduate</td>\n",
       "      <td>Yes</td>\n",
       "      <td>4100000</td>\n",
       "      <td>12200000</td>\n",
       "      <td>8</td>\n",
       "      <td>417</td>\n",
       "      <td>2700000</td>\n",
       "      <td>2200000</td>\n",
       "      <td>8800000</td>\n",
       "      <td>3300000</td>\n",
       "      <td>Rejected</td>\n",
       "    </tr>\n",
       "    <tr>\n",
       "      <th>2</th>\n",
       "      <td>3</td>\n",
       "      <td>3</td>\n",
       "      <td>Graduate</td>\n",
       "      <td>No</td>\n",
       "      <td>9100000</td>\n",
       "      <td>29700000</td>\n",
       "      <td>20</td>\n",
       "      <td>506</td>\n",
       "      <td>7100000</td>\n",
       "      <td>4500000</td>\n",
       "      <td>33300000</td>\n",
       "      <td>12800000</td>\n",
       "      <td>Rejected</td>\n",
       "    </tr>\n",
       "    <tr>\n",
       "      <th>3</th>\n",
       "      <td>4</td>\n",
       "      <td>3</td>\n",
       "      <td>Graduate</td>\n",
       "      <td>No</td>\n",
       "      <td>8200000</td>\n",
       "      <td>30700000</td>\n",
       "      <td>8</td>\n",
       "      <td>467</td>\n",
       "      <td>18200000</td>\n",
       "      <td>3300000</td>\n",
       "      <td>23300000</td>\n",
       "      <td>7900000</td>\n",
       "      <td>Rejected</td>\n",
       "    </tr>\n",
       "    <tr>\n",
       "      <th>4</th>\n",
       "      <td>5</td>\n",
       "      <td>5</td>\n",
       "      <td>Not Graduate</td>\n",
       "      <td>Yes</td>\n",
       "      <td>9800000</td>\n",
       "      <td>24200000</td>\n",
       "      <td>20</td>\n",
       "      <td>382</td>\n",
       "      <td>12400000</td>\n",
       "      <td>8200000</td>\n",
       "      <td>29400000</td>\n",
       "      <td>5000000</td>\n",
       "      <td>Rejected</td>\n",
       "    </tr>\n",
       "  </tbody>\n",
       "</table>\n",
       "</div>"
      ],
      "text/plain": [
       "   loan_id   no_of_dependents      education  self_employed   income_annum  \\\n",
       "0        1                  2       Graduate             No        9600000   \n",
       "1        2                  0   Not Graduate            Yes        4100000   \n",
       "2        3                  3       Graduate             No        9100000   \n",
       "3        4                  3       Graduate             No        8200000   \n",
       "4        5                  5   Not Graduate            Yes        9800000   \n",
       "\n",
       "    loan_amount   loan_term   cibil_score   residential_assets_value  \\\n",
       "0      29900000          12           778                    2400000   \n",
       "1      12200000           8           417                    2700000   \n",
       "2      29700000          20           506                    7100000   \n",
       "3      30700000           8           467                   18200000   \n",
       "4      24200000          20           382                   12400000   \n",
       "\n",
       "    commercial_assets_value   luxury_assets_value   bank_asset_value  \\\n",
       "0                  17600000              22700000            8000000   \n",
       "1                   2200000               8800000            3300000   \n",
       "2                   4500000              33300000           12800000   \n",
       "3                   3300000              23300000            7900000   \n",
       "4                   8200000              29400000            5000000   \n",
       "\n",
       "   loan_status  \n",
       "0     Approved  \n",
       "1     Rejected  \n",
       "2     Rejected  \n",
       "3     Rejected  \n",
       "4     Rejected  "
      ]
     },
     "execution_count": 2,
     "metadata": {},
     "output_type": "execute_result"
    }
   ],
   "source": [
    "dataset=pd.read_csv(\"loan_approval_dataset.csv\")\n",
    "dataset.head()"
   ]
  },
  {
   "cell_type": "code",
   "execution_count": 3,
   "id": "74340fd4-bda7-4840-9e06-1514cd75dab5",
   "metadata": {},
   "outputs": [
    {
     "data": {
      "text/plain": [
       "(4269, 13)"
      ]
     },
     "execution_count": 3,
     "metadata": {},
     "output_type": "execute_result"
    }
   ],
   "source": [
    "dataset.shape"
   ]
  },
  {
   "cell_type": "code",
   "execution_count": 4,
   "id": "6b651c21-fca9-44dc-9b33-a6aaaf10a4de",
   "metadata": {},
   "outputs": [
    {
     "data": {
      "text/plain": [
       "loan_id                      4269\n",
       " no_of_dependents               6\n",
       " education                      2\n",
       " self_employed                  2\n",
       " income_annum                  98\n",
       " loan_amount                  378\n",
       " loan_term                     10\n",
       " cibil_score                  601\n",
       " residential_assets_value     278\n",
       " commercial_assets_value      188\n",
       " luxury_assets_value          379\n",
       " bank_asset_value             146\n",
       " loan_status                    2\n",
       "dtype: int64"
      ]
     },
     "execution_count": 4,
     "metadata": {},
     "output_type": "execute_result"
    }
   ],
   "source": [
    "# check for the unique value (`nunique` gives the number of unique values for each column)\n",
    "dataset.nunique()"
   ]
  },
  {
   "cell_type": "code",
   "execution_count": 5,
   "id": "56450cbb-54af-4fb8-b5ed-1c84769fc21a",
   "metadata": {},
   "outputs": [
    {
     "data": {
      "text/plain": [
       "np.int64(0)"
      ]
     },
     "execution_count": 5,
     "metadata": {},
     "output_type": "execute_result"
    }
   ],
   "source": [
    "# Check for duplicates\n",
    "dataset.duplicated().sum()"
   ]
  },
  {
   "cell_type": "code",
   "execution_count": 6,
   "id": "3fe6a544-a2ab-4fc5-ac41-fcdfa108a070",
   "metadata": {},
   "outputs": [],
   "source": [
    "dataset.drop('loan_id', axis=1, inplace=True)"
   ]
  },
  {
   "cell_type": "code",
   "execution_count": 7,
   "id": "1cecccde-ed89-4be3-9537-31e530e9a1fa",
   "metadata": {},
   "outputs": [
    {
     "data": {
      "text/plain": [
       "Index([' no_of_dependents', ' education', ' self_employed', ' income_annum',\n",
       "       ' loan_amount', ' loan_term', ' cibil_score',\n",
       "       ' residential_assets_value', ' commercial_assets_value',\n",
       "       ' luxury_assets_value', ' bank_asset_value', ' loan_status'],\n",
       "      dtype='object')"
      ]
     },
     "execution_count": 7,
     "metadata": {},
     "output_type": "execute_result"
    }
   ],
   "source": [
    "dataset.columns"
   ]
  },
  {
   "cell_type": "markdown",
   "id": "58c90f76-7c25-430b-ac6a-581820edaf61",
   "metadata": {},
   "source": [
    "> As we can see there are white spaces to all the column names except for the `loan_id` column. So Let's go ahead and remove those white spaces"
   ]
  },
  {
   "cell_type": "code",
   "execution_count": 8,
   "id": "84a2e02c-2e0b-4e7d-b66e-f895d082840d",
   "metadata": {},
   "outputs": [
    {
     "data": {
      "text/plain": [
       "Index(['no_of_dependents', 'education', 'self_employed', 'income_annum',\n",
       "       'loan_amount', 'loan_term', 'cibil_score', 'residential_assets_value',\n",
       "       'commercial_assets_value', 'luxury_assets_value', 'bank_asset_value',\n",
       "       'loan_status'],\n",
       "      dtype='object')"
      ]
     },
     "execution_count": 8,
     "metadata": {},
     "output_type": "execute_result"
    }
   ],
   "source": [
    "# Remove the white spaces\n",
    "dataset.columns= [c.strip() for c in dataset.columns]\n",
    "dataset.columns"
   ]
  },
  {
   "cell_type": "code",
   "execution_count": 9,
   "id": "694400dd-5718-496e-823d-44933ecec0e8",
   "metadata": {},
   "outputs": [],
   "source": [
    "# Split the data into features and labels\n",
    "X=dataset.drop('loan_status', axis=1)\n",
    "y=dataset['loan_status']"
   ]
  },
  {
   "cell_type": "code",
   "execution_count": 10,
   "id": "155452b5-631f-4af2-8be7-e85534141bee",
   "metadata": {},
   "outputs": [
    {
     "name": "stdout",
     "output_type": "stream",
     "text": [
      "<class 'pandas.core.frame.DataFrame'>\n",
      "RangeIndex: 4269 entries, 0 to 4268\n",
      "Data columns (total 11 columns):\n",
      " #   Column                    Non-Null Count  Dtype \n",
      "---  ------                    --------------  ----- \n",
      " 0   no_of_dependents          4269 non-null   int64 \n",
      " 1   education                 4269 non-null   object\n",
      " 2   self_employed             4269 non-null   object\n",
      " 3   income_annum              4269 non-null   int64 \n",
      " 4   loan_amount               4269 non-null   int64 \n",
      " 5   loan_term                 4269 non-null   int64 \n",
      " 6   cibil_score               4269 non-null   int64 \n",
      " 7   residential_assets_value  4269 non-null   int64 \n",
      " 8   commercial_assets_value   4269 non-null   int64 \n",
      " 9   luxury_assets_value       4269 non-null   int64 \n",
      " 10  bank_asset_value          4269 non-null   int64 \n",
      "dtypes: int64(9), object(2)\n",
      "memory usage: 367.0+ KB\n"
     ]
    }
   ],
   "source": [
    "X.info()"
   ]
  },
  {
   "cell_type": "code",
   "execution_count": 11,
   "id": "0d5131b9-b52c-44ec-8a52-78e47166b9d4",
   "metadata": {},
   "outputs": [],
   "source": [
    "# Apply the domain knowledge as part of preprocessing\n",
    "# Combine the resendential_asset_value, commercial_asset_value, luxury_asset_value and bank_asset_value into a single column called total_assets_value as part of the business requirement\n",
    "\n",
    "X['total_assets_value']=X['residential_assets_value']+ X['commercial_assets_value']+X['luxury_assets_value']+X['bank_asset_value']\n",
    "\n"
   ]
  },
  {
   "cell_type": "code",
   "execution_count": 12,
   "id": "aacd5fd4-90f4-4a44-88bb-f9e007c9e6ff",
   "metadata": {},
   "outputs": [
    {
     "data": {
      "text/plain": [
       "0       50700000\n",
       "1       17000000\n",
       "2       57700000\n",
       "3       52700000\n",
       "4       55000000\n",
       "          ...   \n",
       "4264     7400000\n",
       "4265    20000000\n",
       "4266    39000000\n",
       "4267    28800000\n",
       "4268    77300000\n",
       "Name: total_assets_value, Length: 4269, dtype: int64"
      ]
     },
     "execution_count": 12,
     "metadata": {},
     "output_type": "execute_result"
    }
   ],
   "source": [
    "X['total_assets_value']"
   ]
  },
  {
   "cell_type": "code",
   "execution_count": 13,
   "id": "0e30bf04-4cdf-4c96-82eb-087e8455b32f",
   "metadata": {},
   "outputs": [],
   "source": [
    "X.drop(columns=['residential_assets_value', 'commercial_assets_value', 'luxury_assets_value', 'bank_asset_value'], inplace=True)"
   ]
  },
  {
   "cell_type": "code",
   "execution_count": 14,
   "id": "508ec229-6789-4c9c-900b-3e910350d250",
   "metadata": {},
   "outputs": [
    {
     "data": {
      "text/html": [
       "<div>\n",
       "<style scoped>\n",
       "    .dataframe tbody tr th:only-of-type {\n",
       "        vertical-align: middle;\n",
       "    }\n",
       "\n",
       "    .dataframe tbody tr th {\n",
       "        vertical-align: top;\n",
       "    }\n",
       "\n",
       "    .dataframe thead th {\n",
       "        text-align: right;\n",
       "    }\n",
       "</style>\n",
       "<table border=\"1\" class=\"dataframe\">\n",
       "  <thead>\n",
       "    <tr style=\"text-align: right;\">\n",
       "      <th></th>\n",
       "      <th>no_of_dependents</th>\n",
       "      <th>education</th>\n",
       "      <th>self_employed</th>\n",
       "      <th>income_annum</th>\n",
       "      <th>loan_amount</th>\n",
       "      <th>loan_term</th>\n",
       "      <th>cibil_score</th>\n",
       "      <th>total_assets_value</th>\n",
       "    </tr>\n",
       "  </thead>\n",
       "  <tbody>\n",
       "    <tr>\n",
       "      <th>0</th>\n",
       "      <td>2</td>\n",
       "      <td>Graduate</td>\n",
       "      <td>No</td>\n",
       "      <td>9600000</td>\n",
       "      <td>29900000</td>\n",
       "      <td>12</td>\n",
       "      <td>778</td>\n",
       "      <td>50700000</td>\n",
       "    </tr>\n",
       "    <tr>\n",
       "      <th>1</th>\n",
       "      <td>0</td>\n",
       "      <td>Not Graduate</td>\n",
       "      <td>Yes</td>\n",
       "      <td>4100000</td>\n",
       "      <td>12200000</td>\n",
       "      <td>8</td>\n",
       "      <td>417</td>\n",
       "      <td>17000000</td>\n",
       "    </tr>\n",
       "    <tr>\n",
       "      <th>2</th>\n",
       "      <td>3</td>\n",
       "      <td>Graduate</td>\n",
       "      <td>No</td>\n",
       "      <td>9100000</td>\n",
       "      <td>29700000</td>\n",
       "      <td>20</td>\n",
       "      <td>506</td>\n",
       "      <td>57700000</td>\n",
       "    </tr>\n",
       "    <tr>\n",
       "      <th>3</th>\n",
       "      <td>3</td>\n",
       "      <td>Graduate</td>\n",
       "      <td>No</td>\n",
       "      <td>8200000</td>\n",
       "      <td>30700000</td>\n",
       "      <td>8</td>\n",
       "      <td>467</td>\n",
       "      <td>52700000</td>\n",
       "    </tr>\n",
       "    <tr>\n",
       "      <th>4</th>\n",
       "      <td>5</td>\n",
       "      <td>Not Graduate</td>\n",
       "      <td>Yes</td>\n",
       "      <td>9800000</td>\n",
       "      <td>24200000</td>\n",
       "      <td>20</td>\n",
       "      <td>382</td>\n",
       "      <td>55000000</td>\n",
       "    </tr>\n",
       "  </tbody>\n",
       "</table>\n",
       "</div>"
      ],
      "text/plain": [
       "   no_of_dependents      education self_employed  income_annum  loan_amount  \\\n",
       "0                 2       Graduate            No       9600000     29900000   \n",
       "1                 0   Not Graduate           Yes       4100000     12200000   \n",
       "2                 3       Graduate            No       9100000     29700000   \n",
       "3                 3       Graduate            No       8200000     30700000   \n",
       "4                 5   Not Graduate           Yes       9800000     24200000   \n",
       "\n",
       "   loan_term  cibil_score  total_assets_value  \n",
       "0         12          778            50700000  \n",
       "1          8          417            17000000  \n",
       "2         20          506            57700000  \n",
       "3          8          467            52700000  \n",
       "4         20          382            55000000  "
      ]
     },
     "execution_count": 14,
     "metadata": {},
     "output_type": "execute_result"
    }
   ],
   "source": [
    "X.head()"
   ]
  },
  {
   "cell_type": "code",
   "execution_count": 15,
   "id": "ee884cd2-9acc-4317-8c73-d39645bc6429",
   "metadata": {},
   "outputs": [
    {
     "data": {
      "text/plain": [
       "array([' Graduate', ' Not Graduate'], dtype=object)"
      ]
     },
     "execution_count": 15,
     "metadata": {},
     "output_type": "execute_result"
    }
   ],
   "source": [
    "# Convert non-numerical values into numerical values\n",
    "X['education'].unique()"
   ]
  },
  {
   "cell_type": "code",
   "execution_count": 16,
   "id": "3c4e2529-f7c8-4c1b-889b-a5ba73e13abd",
   "metadata": {},
   "outputs": [
    {
     "data": {
      "text/plain": [
       "array([' No', ' Yes'], dtype=object)"
      ]
     },
     "execution_count": 16,
     "metadata": {},
     "output_type": "execute_result"
    }
   ],
   "source": [
    "X['self_employed'].unique()"
   ]
  },
  {
   "cell_type": "code",
   "execution_count": 17,
   "id": "b09deaa9-ff92-4045-949b-61058d486dbe",
   "metadata": {},
   "outputs": [
    {
     "data": {
      "text/plain": [
       "array([' Approved', ' Rejected'], dtype=object)"
      ]
     },
     "execution_count": 17,
     "metadata": {},
     "output_type": "execute_result"
    }
   ],
   "source": [
    "y.unique()"
   ]
  },
  {
   "cell_type": "markdown",
   "id": "4526a549-5e2e-46f7-a109-82c4df677e48",
   "metadata": {},
   "source": [
    "> As we can see there are white spaces present on the values also so let's go ahead and remove those white spaces"
   ]
  },
  {
   "cell_type": "code",
   "execution_count": 18,
   "id": "10189a0f-f97f-434a-824a-aa20fe67bfdd",
   "metadata": {},
   "outputs": [],
   "source": [
    "X['education']= X['education'].str.strip()\n",
    "X['self_employed']= X['self_employed'].str.strip()\n",
    "y=y.str.strip()"
   ]
  },
  {
   "cell_type": "code",
   "execution_count": 19,
   "id": "31cdf643-5b9e-4dbd-9365-462bc9c64f65",
   "metadata": {},
   "outputs": [
    {
     "data": {
      "text/plain": [
       "array(['No', 'Yes'], dtype=object)"
      ]
     },
     "execution_count": 19,
     "metadata": {},
     "output_type": "execute_result"
    }
   ],
   "source": [
    "X['self_employed'].unique()"
   ]
  },
  {
   "cell_type": "code",
   "execution_count": 20,
   "id": "b102b258-0704-4147-bf3b-9aa27344860b",
   "metadata": {},
   "outputs": [
    {
     "data": {
      "text/html": [
       "<div>\n",
       "<style scoped>\n",
       "    .dataframe tbody tr th:only-of-type {\n",
       "        vertical-align: middle;\n",
       "    }\n",
       "\n",
       "    .dataframe tbody tr th {\n",
       "        vertical-align: top;\n",
       "    }\n",
       "\n",
       "    .dataframe thead th {\n",
       "        text-align: right;\n",
       "    }\n",
       "</style>\n",
       "<table border=\"1\" class=\"dataframe\">\n",
       "  <thead>\n",
       "    <tr style=\"text-align: right;\">\n",
       "      <th></th>\n",
       "      <th>no_of_dependents</th>\n",
       "      <th>education</th>\n",
       "      <th>self_employed</th>\n",
       "      <th>income_annum</th>\n",
       "      <th>loan_amount</th>\n",
       "      <th>loan_term</th>\n",
       "      <th>cibil_score</th>\n",
       "      <th>total_assets_value</th>\n",
       "    </tr>\n",
       "  </thead>\n",
       "  <tbody>\n",
       "    <tr>\n",
       "      <th>0</th>\n",
       "      <td>2</td>\n",
       "      <td>1</td>\n",
       "      <td>0</td>\n",
       "      <td>9600000</td>\n",
       "      <td>29900000</td>\n",
       "      <td>12</td>\n",
       "      <td>778</td>\n",
       "      <td>50700000</td>\n",
       "    </tr>\n",
       "    <tr>\n",
       "      <th>1</th>\n",
       "      <td>0</td>\n",
       "      <td>0</td>\n",
       "      <td>1</td>\n",
       "      <td>4100000</td>\n",
       "      <td>12200000</td>\n",
       "      <td>8</td>\n",
       "      <td>417</td>\n",
       "      <td>17000000</td>\n",
       "    </tr>\n",
       "    <tr>\n",
       "      <th>2</th>\n",
       "      <td>3</td>\n",
       "      <td>1</td>\n",
       "      <td>0</td>\n",
       "      <td>9100000</td>\n",
       "      <td>29700000</td>\n",
       "      <td>20</td>\n",
       "      <td>506</td>\n",
       "      <td>57700000</td>\n",
       "    </tr>\n",
       "    <tr>\n",
       "      <th>3</th>\n",
       "      <td>3</td>\n",
       "      <td>1</td>\n",
       "      <td>0</td>\n",
       "      <td>8200000</td>\n",
       "      <td>30700000</td>\n",
       "      <td>8</td>\n",
       "      <td>467</td>\n",
       "      <td>52700000</td>\n",
       "    </tr>\n",
       "    <tr>\n",
       "      <th>4</th>\n",
       "      <td>5</td>\n",
       "      <td>0</td>\n",
       "      <td>1</td>\n",
       "      <td>9800000</td>\n",
       "      <td>24200000</td>\n",
       "      <td>20</td>\n",
       "      <td>382</td>\n",
       "      <td>55000000</td>\n",
       "    </tr>\n",
       "    <tr>\n",
       "      <th>...</th>\n",
       "      <td>...</td>\n",
       "      <td>...</td>\n",
       "      <td>...</td>\n",
       "      <td>...</td>\n",
       "      <td>...</td>\n",
       "      <td>...</td>\n",
       "      <td>...</td>\n",
       "      <td>...</td>\n",
       "    </tr>\n",
       "    <tr>\n",
       "      <th>4264</th>\n",
       "      <td>5</td>\n",
       "      <td>1</td>\n",
       "      <td>1</td>\n",
       "      <td>1000000</td>\n",
       "      <td>2300000</td>\n",
       "      <td>12</td>\n",
       "      <td>317</td>\n",
       "      <td>7400000</td>\n",
       "    </tr>\n",
       "    <tr>\n",
       "      <th>4265</th>\n",
       "      <td>0</td>\n",
       "      <td>0</td>\n",
       "      <td>1</td>\n",
       "      <td>3300000</td>\n",
       "      <td>11300000</td>\n",
       "      <td>20</td>\n",
       "      <td>559</td>\n",
       "      <td>20000000</td>\n",
       "    </tr>\n",
       "    <tr>\n",
       "      <th>4266</th>\n",
       "      <td>2</td>\n",
       "      <td>0</td>\n",
       "      <td>0</td>\n",
       "      <td>6500000</td>\n",
       "      <td>23900000</td>\n",
       "      <td>18</td>\n",
       "      <td>457</td>\n",
       "      <td>39000000</td>\n",
       "    </tr>\n",
       "    <tr>\n",
       "      <th>4267</th>\n",
       "      <td>1</td>\n",
       "      <td>0</td>\n",
       "      <td>0</td>\n",
       "      <td>4100000</td>\n",
       "      <td>12800000</td>\n",
       "      <td>8</td>\n",
       "      <td>780</td>\n",
       "      <td>28800000</td>\n",
       "    </tr>\n",
       "    <tr>\n",
       "      <th>4268</th>\n",
       "      <td>1</td>\n",
       "      <td>1</td>\n",
       "      <td>0</td>\n",
       "      <td>9200000</td>\n",
       "      <td>29700000</td>\n",
       "      <td>10</td>\n",
       "      <td>607</td>\n",
       "      <td>77300000</td>\n",
       "    </tr>\n",
       "  </tbody>\n",
       "</table>\n",
       "<p>4269 rows × 8 columns</p>\n",
       "</div>"
      ],
      "text/plain": [
       "      no_of_dependents  education  self_employed  income_annum  loan_amount  \\\n",
       "0                    2          1              0       9600000     29900000   \n",
       "1                    0          0              1       4100000     12200000   \n",
       "2                    3          1              0       9100000     29700000   \n",
       "3                    3          1              0       8200000     30700000   \n",
       "4                    5          0              1       9800000     24200000   \n",
       "...                ...        ...            ...           ...          ...   \n",
       "4264                 5          1              1       1000000      2300000   \n",
       "4265                 0          0              1       3300000     11300000   \n",
       "4266                 2          0              0       6500000     23900000   \n",
       "4267                 1          0              0       4100000     12800000   \n",
       "4268                 1          1              0       9200000     29700000   \n",
       "\n",
       "      loan_term  cibil_score  total_assets_value  \n",
       "0            12          778            50700000  \n",
       "1             8          417            17000000  \n",
       "2            20          506            57700000  \n",
       "3             8          467            52700000  \n",
       "4            20          382            55000000  \n",
       "...         ...          ...                 ...  \n",
       "4264         12          317             7400000  \n",
       "4265         20          559            20000000  \n",
       "4266         18          457            39000000  \n",
       "4267          8          780            28800000  \n",
       "4268         10          607            77300000  \n",
       "\n",
       "[4269 rows x 8 columns]"
      ]
     },
     "execution_count": 20,
     "metadata": {},
     "output_type": "execute_result"
    }
   ],
   "source": [
    "# Convert non-numerical columns into numerical columns\n",
    "def transform_categorical_to_binary(df, columns_to_transform):\n",
    "    \"\"\"\n",
    "    Transform specified categorical columns in a DataFrame to binary (0 & 1)\n",
    "\n",
    "    Args:\n",
    "       df: The DataFrame to modify\n",
    "       columns_to_transform: A dictionary where keys are column names and values are\n",
    "                             list of the original categorical values to map to 1.\n",
    "    Returns:\n",
    "        The modified DataFrame with transformed columns.\n",
    "    \"\"\"\n",
    "    for column_name, positive_values in columns_to_transform.items():\n",
    "        df[column_name]=df[column_name].apply(lambda x: 1 if x in positive_values else 0)\n",
    "    return df\n",
    "\n",
    "columns_to_transform={\n",
    "    'education': ['Graduate'],\n",
    "    'self_employed': ['Yes']\n",
    "}\n",
    "\n",
    "transformed_X = transform_categorical_to_binary(X, columns_to_transform)\n",
    "transformed_X\n",
    "\n"
   ]
  },
  {
   "cell_type": "code",
   "execution_count": 21,
   "id": "8db00d30-c3f7-459b-a052-aa3f0c8b5360",
   "metadata": {},
   "outputs": [],
   "source": [
    "# Apply log transformation to scale values\n",
    "log_cols= ['income_annum', 'loan_amount', 'total_assets_value']\n",
    "X[log_cols]=np.log(X[log_cols])"
   ]
  },
  {
   "cell_type": "code",
   "execution_count": 22,
   "id": "6456242c-9bcd-45e0-ad2a-88c35100ddf4",
   "metadata": {},
   "outputs": [],
   "source": [
    "y=y.map({\"Approved\":1, \"Rejected\":0})"
   ]
  },
  {
   "cell_type": "code",
   "execution_count": 23,
   "id": "5cc445d0-ef07-4a49-81a5-8e9c50fd0c7b",
   "metadata": {},
   "outputs": [
    {
     "data": {
      "text/plain": [
       "0    1\n",
       "1    0\n",
       "2    0\n",
       "3    0\n",
       "4    0\n",
       "Name: loan_status, dtype: int64"
      ]
     },
     "execution_count": 23,
     "metadata": {},
     "output_type": "execute_result"
    }
   ],
   "source": [
    "y[:5]"
   ]
  },
  {
   "cell_type": "code",
   "execution_count": 24,
   "id": "1cf37b0a-c4c2-473a-bc12-03c811c26019",
   "metadata": {},
   "outputs": [
    {
     "data": {
      "text/html": [
       "<div>\n",
       "<style scoped>\n",
       "    .dataframe tbody tr th:only-of-type {\n",
       "        vertical-align: middle;\n",
       "    }\n",
       "\n",
       "    .dataframe tbody tr th {\n",
       "        vertical-align: top;\n",
       "    }\n",
       "\n",
       "    .dataframe thead th {\n",
       "        text-align: right;\n",
       "    }\n",
       "</style>\n",
       "<table border=\"1\" class=\"dataframe\">\n",
       "  <thead>\n",
       "    <tr style=\"text-align: right;\">\n",
       "      <th></th>\n",
       "      <th>no_of_dependents</th>\n",
       "      <th>education</th>\n",
       "      <th>self_employed</th>\n",
       "      <th>income_annum</th>\n",
       "      <th>loan_amount</th>\n",
       "      <th>loan_term</th>\n",
       "      <th>cibil_score</th>\n",
       "      <th>total_assets_value</th>\n",
       "    </tr>\n",
       "  </thead>\n",
       "  <tbody>\n",
       "    <tr>\n",
       "      <th>0</th>\n",
       "      <td>2</td>\n",
       "      <td>1</td>\n",
       "      <td>0</td>\n",
       "      <td>16.077274</td>\n",
       "      <td>17.213369</td>\n",
       "      <td>12</td>\n",
       "      <td>778</td>\n",
       "      <td>17.741436</td>\n",
       "    </tr>\n",
       "    <tr>\n",
       "      <th>1</th>\n",
       "      <td>0</td>\n",
       "      <td>0</td>\n",
       "      <td>1</td>\n",
       "      <td>15.226498</td>\n",
       "      <td>16.316947</td>\n",
       "      <td>8</td>\n",
       "      <td>417</td>\n",
       "      <td>16.648724</td>\n",
       "    </tr>\n",
       "    <tr>\n",
       "      <th>2</th>\n",
       "      <td>3</td>\n",
       "      <td>1</td>\n",
       "      <td>0</td>\n",
       "      <td>16.023785</td>\n",
       "      <td>17.206658</td>\n",
       "      <td>20</td>\n",
       "      <td>506</td>\n",
       "      <td>17.870768</td>\n",
       "    </tr>\n",
       "    <tr>\n",
       "      <th>3</th>\n",
       "      <td>3</td>\n",
       "      <td>1</td>\n",
       "      <td>0</td>\n",
       "      <td>15.919645</td>\n",
       "      <td>17.239773</td>\n",
       "      <td>8</td>\n",
       "      <td>467</td>\n",
       "      <td>17.780126</td>\n",
       "    </tr>\n",
       "    <tr>\n",
       "      <th>4</th>\n",
       "      <td>5</td>\n",
       "      <td>0</td>\n",
       "      <td>1</td>\n",
       "      <td>16.097893</td>\n",
       "      <td>17.001863</td>\n",
       "      <td>20</td>\n",
       "      <td>382</td>\n",
       "      <td>17.822844</td>\n",
       "    </tr>\n",
       "  </tbody>\n",
       "</table>\n",
       "</div>"
      ],
      "text/plain": [
       "   no_of_dependents  education  self_employed  income_annum  loan_amount  \\\n",
       "0                 2          1              0     16.077274    17.213369   \n",
       "1                 0          0              1     15.226498    16.316947   \n",
       "2                 3          1              0     16.023785    17.206658   \n",
       "3                 3          1              0     15.919645    17.239773   \n",
       "4                 5          0              1     16.097893    17.001863   \n",
       "\n",
       "   loan_term  cibil_score  total_assets_value  \n",
       "0         12          778           17.741436  \n",
       "1          8          417           16.648724  \n",
       "2         20          506           17.870768  \n",
       "3          8          467           17.780126  \n",
       "4         20          382           17.822844  "
      ]
     },
     "execution_count": 24,
     "metadata": {},
     "output_type": "execute_result"
    }
   ],
   "source": [
    "X.head()"
   ]
  },
  {
   "cell_type": "code",
   "execution_count": 25,
   "id": "8d7c3eff-a72b-4f14-bf05-55c91e7f2817",
   "metadata": {},
   "outputs": [
    {
     "data": {
      "text/plain": [
       "0    1\n",
       "1    0\n",
       "2    0\n",
       "3    0\n",
       "4    0\n",
       "Name: loan_status, dtype: int64"
      ]
     },
     "execution_count": 25,
     "metadata": {},
     "output_type": "execute_result"
    }
   ],
   "source": [
    "y.head()"
   ]
  },
  {
   "cell_type": "code",
   "execution_count": 26,
   "id": "7560ad61-446e-4630-8e31-c167ad474565",
   "metadata": {},
   "outputs": [],
   "source": [
    "# Split the data into train and test sets\n",
    "X_train, X_test, y_train, y_test= train_test_split(X,y, test_size=0.3, random_state=0)\n",
    "\n"
   ]
  },
  {
   "cell_type": "code",
   "execution_count": 27,
   "id": "df3d748f-4f22-4862-ac66-170030b11c28",
   "metadata": {},
   "outputs": [
    {
     "name": "stderr",
     "output_type": "stream",
     "text": [
      "/Users/sumi/miniforge3/envs/MLOps/lib/python3.13/site-packages/sklearn/linear_model/_logistic.py:469: ConvergenceWarning: lbfgs failed to converge (status=1):\n",
      "STOP: TOTAL NO. of ITERATIONS REACHED LIMIT.\n",
      "\n",
      "Increase the number of iterations (max_iter) or scale the data as shown in:\n",
      "    https://scikit-learn.org/stable/modules/preprocessing.html\n",
      "Please also refer to the documentation for alternative solver options:\n",
      "    https://scikit-learn.org/stable/modules/linear_model.html#logistic-regression\n",
      "  n_iter_i = _check_optimize_result(\n"
     ]
    },
    {
     "data": {
      "text/html": [
       "<style>#sk-container-id-1 {\n",
       "  /* Definition of color scheme common for light and dark mode */\n",
       "  --sklearn-color-text: black;\n",
       "  --sklearn-color-line: gray;\n",
       "  /* Definition of color scheme for unfitted estimators */\n",
       "  --sklearn-color-unfitted-level-0: #fff5e6;\n",
       "  --sklearn-color-unfitted-level-1: #f6e4d2;\n",
       "  --sklearn-color-unfitted-level-2: #ffe0b3;\n",
       "  --sklearn-color-unfitted-level-3: chocolate;\n",
       "  /* Definition of color scheme for fitted estimators */\n",
       "  --sklearn-color-fitted-level-0: #f0f8ff;\n",
       "  --sklearn-color-fitted-level-1: #d4ebff;\n",
       "  --sklearn-color-fitted-level-2: #b3dbfd;\n",
       "  --sklearn-color-fitted-level-3: cornflowerblue;\n",
       "\n",
       "  /* Specific color for light theme */\n",
       "  --sklearn-color-text-on-default-background: var(--sg-text-color, var(--theme-code-foreground, var(--jp-content-font-color1, black)));\n",
       "  --sklearn-color-background: var(--sg-background-color, var(--theme-background, var(--jp-layout-color0, white)));\n",
       "  --sklearn-color-border-box: var(--sg-text-color, var(--theme-code-foreground, var(--jp-content-font-color1, black)));\n",
       "  --sklearn-color-icon: #696969;\n",
       "\n",
       "  @media (prefers-color-scheme: dark) {\n",
       "    /* Redefinition of color scheme for dark theme */\n",
       "    --sklearn-color-text-on-default-background: var(--sg-text-color, var(--theme-code-foreground, var(--jp-content-font-color1, white)));\n",
       "    --sklearn-color-background: var(--sg-background-color, var(--theme-background, var(--jp-layout-color0, #111)));\n",
       "    --sklearn-color-border-box: var(--sg-text-color, var(--theme-code-foreground, var(--jp-content-font-color1, white)));\n",
       "    --sklearn-color-icon: #878787;\n",
       "  }\n",
       "}\n",
       "\n",
       "#sk-container-id-1 {\n",
       "  color: var(--sklearn-color-text);\n",
       "}\n",
       "\n",
       "#sk-container-id-1 pre {\n",
       "  padding: 0;\n",
       "}\n",
       "\n",
       "#sk-container-id-1 input.sk-hidden--visually {\n",
       "  border: 0;\n",
       "  clip: rect(1px 1px 1px 1px);\n",
       "  clip: rect(1px, 1px, 1px, 1px);\n",
       "  height: 1px;\n",
       "  margin: -1px;\n",
       "  overflow: hidden;\n",
       "  padding: 0;\n",
       "  position: absolute;\n",
       "  width: 1px;\n",
       "}\n",
       "\n",
       "#sk-container-id-1 div.sk-dashed-wrapped {\n",
       "  border: 1px dashed var(--sklearn-color-line);\n",
       "  margin: 0 0.4em 0.5em 0.4em;\n",
       "  box-sizing: border-box;\n",
       "  padding-bottom: 0.4em;\n",
       "  background-color: var(--sklearn-color-background);\n",
       "}\n",
       "\n",
       "#sk-container-id-1 div.sk-container {\n",
       "  /* jupyter's `normalize.less` sets `[hidden] { display: none; }`\n",
       "     but bootstrap.min.css set `[hidden] { display: none !important; }`\n",
       "     so we also need the `!important` here to be able to override the\n",
       "     default hidden behavior on the sphinx rendered scikit-learn.org.\n",
       "     See: https://github.com/scikit-learn/scikit-learn/issues/21755 */\n",
       "  display: inline-block !important;\n",
       "  position: relative;\n",
       "}\n",
       "\n",
       "#sk-container-id-1 div.sk-text-repr-fallback {\n",
       "  display: none;\n",
       "}\n",
       "\n",
       "div.sk-parallel-item,\n",
       "div.sk-serial,\n",
       "div.sk-item {\n",
       "  /* draw centered vertical line to link estimators */\n",
       "  background-image: linear-gradient(var(--sklearn-color-text-on-default-background), var(--sklearn-color-text-on-default-background));\n",
       "  background-size: 2px 100%;\n",
       "  background-repeat: no-repeat;\n",
       "  background-position: center center;\n",
       "}\n",
       "\n",
       "/* Parallel-specific style estimator block */\n",
       "\n",
       "#sk-container-id-1 div.sk-parallel-item::after {\n",
       "  content: \"\";\n",
       "  width: 100%;\n",
       "  border-bottom: 2px solid var(--sklearn-color-text-on-default-background);\n",
       "  flex-grow: 1;\n",
       "}\n",
       "\n",
       "#sk-container-id-1 div.sk-parallel {\n",
       "  display: flex;\n",
       "  align-items: stretch;\n",
       "  justify-content: center;\n",
       "  background-color: var(--sklearn-color-background);\n",
       "  position: relative;\n",
       "}\n",
       "\n",
       "#sk-container-id-1 div.sk-parallel-item {\n",
       "  display: flex;\n",
       "  flex-direction: column;\n",
       "}\n",
       "\n",
       "#sk-container-id-1 div.sk-parallel-item:first-child::after {\n",
       "  align-self: flex-end;\n",
       "  width: 50%;\n",
       "}\n",
       "\n",
       "#sk-container-id-1 div.sk-parallel-item:last-child::after {\n",
       "  align-self: flex-start;\n",
       "  width: 50%;\n",
       "}\n",
       "\n",
       "#sk-container-id-1 div.sk-parallel-item:only-child::after {\n",
       "  width: 0;\n",
       "}\n",
       "\n",
       "/* Serial-specific style estimator block */\n",
       "\n",
       "#sk-container-id-1 div.sk-serial {\n",
       "  display: flex;\n",
       "  flex-direction: column;\n",
       "  align-items: center;\n",
       "  background-color: var(--sklearn-color-background);\n",
       "  padding-right: 1em;\n",
       "  padding-left: 1em;\n",
       "}\n",
       "\n",
       "\n",
       "/* Toggleable style: style used for estimator/Pipeline/ColumnTransformer box that is\n",
       "clickable and can be expanded/collapsed.\n",
       "- Pipeline and ColumnTransformer use this feature and define the default style\n",
       "- Estimators will overwrite some part of the style using the `sk-estimator` class\n",
       "*/\n",
       "\n",
       "/* Pipeline and ColumnTransformer style (default) */\n",
       "\n",
       "#sk-container-id-1 div.sk-toggleable {\n",
       "  /* Default theme specific background. It is overwritten whether we have a\n",
       "  specific estimator or a Pipeline/ColumnTransformer */\n",
       "  background-color: var(--sklearn-color-background);\n",
       "}\n",
       "\n",
       "/* Toggleable label */\n",
       "#sk-container-id-1 label.sk-toggleable__label {\n",
       "  cursor: pointer;\n",
       "  display: block;\n",
       "  width: 100%;\n",
       "  margin-bottom: 0;\n",
       "  padding: 0.5em;\n",
       "  box-sizing: border-box;\n",
       "  text-align: center;\n",
       "}\n",
       "\n",
       "#sk-container-id-1 label.sk-toggleable__label-arrow:before {\n",
       "  /* Arrow on the left of the label */\n",
       "  content: \"▸\";\n",
       "  float: left;\n",
       "  margin-right: 0.25em;\n",
       "  color: var(--sklearn-color-icon);\n",
       "}\n",
       "\n",
       "#sk-container-id-1 label.sk-toggleable__label-arrow:hover:before {\n",
       "  color: var(--sklearn-color-text);\n",
       "}\n",
       "\n",
       "/* Toggleable content - dropdown */\n",
       "\n",
       "#sk-container-id-1 div.sk-toggleable__content {\n",
       "  max-height: 0;\n",
       "  max-width: 0;\n",
       "  overflow: hidden;\n",
       "  text-align: left;\n",
       "  /* unfitted */\n",
       "  background-color: var(--sklearn-color-unfitted-level-0);\n",
       "}\n",
       "\n",
       "#sk-container-id-1 div.sk-toggleable__content.fitted {\n",
       "  /* fitted */\n",
       "  background-color: var(--sklearn-color-fitted-level-0);\n",
       "}\n",
       "\n",
       "#sk-container-id-1 div.sk-toggleable__content pre {\n",
       "  margin: 0.2em;\n",
       "  border-radius: 0.25em;\n",
       "  color: var(--sklearn-color-text);\n",
       "  /* unfitted */\n",
       "  background-color: var(--sklearn-color-unfitted-level-0);\n",
       "}\n",
       "\n",
       "#sk-container-id-1 div.sk-toggleable__content.fitted pre {\n",
       "  /* unfitted */\n",
       "  background-color: var(--sklearn-color-fitted-level-0);\n",
       "}\n",
       "\n",
       "#sk-container-id-1 input.sk-toggleable__control:checked~div.sk-toggleable__content {\n",
       "  /* Expand drop-down */\n",
       "  max-height: 200px;\n",
       "  max-width: 100%;\n",
       "  overflow: auto;\n",
       "}\n",
       "\n",
       "#sk-container-id-1 input.sk-toggleable__control:checked~label.sk-toggleable__label-arrow:before {\n",
       "  content: \"▾\";\n",
       "}\n",
       "\n",
       "/* Pipeline/ColumnTransformer-specific style */\n",
       "\n",
       "#sk-container-id-1 div.sk-label input.sk-toggleable__control:checked~label.sk-toggleable__label {\n",
       "  color: var(--sklearn-color-text);\n",
       "  background-color: var(--sklearn-color-unfitted-level-2);\n",
       "}\n",
       "\n",
       "#sk-container-id-1 div.sk-label.fitted input.sk-toggleable__control:checked~label.sk-toggleable__label {\n",
       "  background-color: var(--sklearn-color-fitted-level-2);\n",
       "}\n",
       "\n",
       "/* Estimator-specific style */\n",
       "\n",
       "/* Colorize estimator box */\n",
       "#sk-container-id-1 div.sk-estimator input.sk-toggleable__control:checked~label.sk-toggleable__label {\n",
       "  /* unfitted */\n",
       "  background-color: var(--sklearn-color-unfitted-level-2);\n",
       "}\n",
       "\n",
       "#sk-container-id-1 div.sk-estimator.fitted input.sk-toggleable__control:checked~label.sk-toggleable__label {\n",
       "  /* fitted */\n",
       "  background-color: var(--sklearn-color-fitted-level-2);\n",
       "}\n",
       "\n",
       "#sk-container-id-1 div.sk-label label.sk-toggleable__label,\n",
       "#sk-container-id-1 div.sk-label label {\n",
       "  /* The background is the default theme color */\n",
       "  color: var(--sklearn-color-text-on-default-background);\n",
       "}\n",
       "\n",
       "/* On hover, darken the color of the background */\n",
       "#sk-container-id-1 div.sk-label:hover label.sk-toggleable__label {\n",
       "  color: var(--sklearn-color-text);\n",
       "  background-color: var(--sklearn-color-unfitted-level-2);\n",
       "}\n",
       "\n",
       "/* Label box, darken color on hover, fitted */\n",
       "#sk-container-id-1 div.sk-label.fitted:hover label.sk-toggleable__label.fitted {\n",
       "  color: var(--sklearn-color-text);\n",
       "  background-color: var(--sklearn-color-fitted-level-2);\n",
       "}\n",
       "\n",
       "/* Estimator label */\n",
       "\n",
       "#sk-container-id-1 div.sk-label label {\n",
       "  font-family: monospace;\n",
       "  font-weight: bold;\n",
       "  display: inline-block;\n",
       "  line-height: 1.2em;\n",
       "}\n",
       "\n",
       "#sk-container-id-1 div.sk-label-container {\n",
       "  text-align: center;\n",
       "}\n",
       "\n",
       "/* Estimator-specific */\n",
       "#sk-container-id-1 div.sk-estimator {\n",
       "  font-family: monospace;\n",
       "  border: 1px dotted var(--sklearn-color-border-box);\n",
       "  border-radius: 0.25em;\n",
       "  box-sizing: border-box;\n",
       "  margin-bottom: 0.5em;\n",
       "  /* unfitted */\n",
       "  background-color: var(--sklearn-color-unfitted-level-0);\n",
       "}\n",
       "\n",
       "#sk-container-id-1 div.sk-estimator.fitted {\n",
       "  /* fitted */\n",
       "  background-color: var(--sklearn-color-fitted-level-0);\n",
       "}\n",
       "\n",
       "/* on hover */\n",
       "#sk-container-id-1 div.sk-estimator:hover {\n",
       "  /* unfitted */\n",
       "  background-color: var(--sklearn-color-unfitted-level-2);\n",
       "}\n",
       "\n",
       "#sk-container-id-1 div.sk-estimator.fitted:hover {\n",
       "  /* fitted */\n",
       "  background-color: var(--sklearn-color-fitted-level-2);\n",
       "}\n",
       "\n",
       "/* Specification for estimator info (e.g. \"i\" and \"?\") */\n",
       "\n",
       "/* Common style for \"i\" and \"?\" */\n",
       "\n",
       ".sk-estimator-doc-link,\n",
       "a:link.sk-estimator-doc-link,\n",
       "a:visited.sk-estimator-doc-link {\n",
       "  float: right;\n",
       "  font-size: smaller;\n",
       "  line-height: 1em;\n",
       "  font-family: monospace;\n",
       "  background-color: var(--sklearn-color-background);\n",
       "  border-radius: 1em;\n",
       "  height: 1em;\n",
       "  width: 1em;\n",
       "  text-decoration: none !important;\n",
       "  margin-left: 1ex;\n",
       "  /* unfitted */\n",
       "  border: var(--sklearn-color-unfitted-level-1) 1pt solid;\n",
       "  color: var(--sklearn-color-unfitted-level-1);\n",
       "}\n",
       "\n",
       ".sk-estimator-doc-link.fitted,\n",
       "a:link.sk-estimator-doc-link.fitted,\n",
       "a:visited.sk-estimator-doc-link.fitted {\n",
       "  /* fitted */\n",
       "  border: var(--sklearn-color-fitted-level-1) 1pt solid;\n",
       "  color: var(--sklearn-color-fitted-level-1);\n",
       "}\n",
       "\n",
       "/* On hover */\n",
       "div.sk-estimator:hover .sk-estimator-doc-link:hover,\n",
       ".sk-estimator-doc-link:hover,\n",
       "div.sk-label-container:hover .sk-estimator-doc-link:hover,\n",
       ".sk-estimator-doc-link:hover {\n",
       "  /* unfitted */\n",
       "  background-color: var(--sklearn-color-unfitted-level-3);\n",
       "  color: var(--sklearn-color-background);\n",
       "  text-decoration: none;\n",
       "}\n",
       "\n",
       "div.sk-estimator.fitted:hover .sk-estimator-doc-link.fitted:hover,\n",
       ".sk-estimator-doc-link.fitted:hover,\n",
       "div.sk-label-container:hover .sk-estimator-doc-link.fitted:hover,\n",
       ".sk-estimator-doc-link.fitted:hover {\n",
       "  /* fitted */\n",
       "  background-color: var(--sklearn-color-fitted-level-3);\n",
       "  color: var(--sklearn-color-background);\n",
       "  text-decoration: none;\n",
       "}\n",
       "\n",
       "/* Span, style for the box shown on hovering the info icon */\n",
       ".sk-estimator-doc-link span {\n",
       "  display: none;\n",
       "  z-index: 9999;\n",
       "  position: relative;\n",
       "  font-weight: normal;\n",
       "  right: .2ex;\n",
       "  padding: .5ex;\n",
       "  margin: .5ex;\n",
       "  width: min-content;\n",
       "  min-width: 20ex;\n",
       "  max-width: 50ex;\n",
       "  color: var(--sklearn-color-text);\n",
       "  box-shadow: 2pt 2pt 4pt #999;\n",
       "  /* unfitted */\n",
       "  background: var(--sklearn-color-unfitted-level-0);\n",
       "  border: .5pt solid var(--sklearn-color-unfitted-level-3);\n",
       "}\n",
       "\n",
       ".sk-estimator-doc-link.fitted span {\n",
       "  /* fitted */\n",
       "  background: var(--sklearn-color-fitted-level-0);\n",
       "  border: var(--sklearn-color-fitted-level-3);\n",
       "}\n",
       "\n",
       ".sk-estimator-doc-link:hover span {\n",
       "  display: block;\n",
       "}\n",
       "\n",
       "/* \"?\"-specific style due to the `<a>` HTML tag */\n",
       "\n",
       "#sk-container-id-1 a.estimator_doc_link {\n",
       "  float: right;\n",
       "  font-size: 1rem;\n",
       "  line-height: 1em;\n",
       "  font-family: monospace;\n",
       "  background-color: var(--sklearn-color-background);\n",
       "  border-radius: 1rem;\n",
       "  height: 1rem;\n",
       "  width: 1rem;\n",
       "  text-decoration: none;\n",
       "  /* unfitted */\n",
       "  color: var(--sklearn-color-unfitted-level-1);\n",
       "  border: var(--sklearn-color-unfitted-level-1) 1pt solid;\n",
       "}\n",
       "\n",
       "#sk-container-id-1 a.estimator_doc_link.fitted {\n",
       "  /* fitted */\n",
       "  border: var(--sklearn-color-fitted-level-1) 1pt solid;\n",
       "  color: var(--sklearn-color-fitted-level-1);\n",
       "}\n",
       "\n",
       "/* On hover */\n",
       "#sk-container-id-1 a.estimator_doc_link:hover {\n",
       "  /* unfitted */\n",
       "  background-color: var(--sklearn-color-unfitted-level-3);\n",
       "  color: var(--sklearn-color-background);\n",
       "  text-decoration: none;\n",
       "}\n",
       "\n",
       "#sk-container-id-1 a.estimator_doc_link.fitted:hover {\n",
       "  /* fitted */\n",
       "  background-color: var(--sklearn-color-fitted-level-3);\n",
       "}\n",
       "</style><div id=\"sk-container-id-1\" class=\"sk-top-container\"><div class=\"sk-text-repr-fallback\"><pre>LogisticRegression()</pre><b>In a Jupyter environment, please rerun this cell to show the HTML representation or trust the notebook. <br />On GitHub, the HTML representation is unable to render, please try loading this page with nbviewer.org.</b></div><div class=\"sk-container\" hidden><div class=\"sk-item\"><div class=\"sk-estimator fitted sk-toggleable\"><input class=\"sk-toggleable__control sk-hidden--visually\" id=\"sk-estimator-id-1\" type=\"checkbox\" checked><label for=\"sk-estimator-id-1\" class=\"sk-toggleable__label fitted sk-toggleable__label-arrow fitted\">&nbsp;&nbsp;LogisticRegression<a class=\"sk-estimator-doc-link fitted\" rel=\"noreferrer\" target=\"_blank\" href=\"https://scikit-learn.org/1.5/modules/generated/sklearn.linear_model.LogisticRegression.html\">?<span>Documentation for LogisticRegression</span></a><span class=\"sk-estimator-doc-link fitted\">i<span>Fitted</span></span></label><div class=\"sk-toggleable__content fitted\"><pre>LogisticRegression()</pre></div> </div></div></div></div>"
      ],
      "text/plain": [
       "LogisticRegression()"
      ]
     },
     "execution_count": 27,
     "metadata": {},
     "output_type": "execute_result"
    }
   ],
   "source": [
    "# Build the model\n",
    "from sklearn.linear_model import LogisticRegression\n",
    "log=LogisticRegression()\n",
    "log.fit(X_train, y_train)"
   ]
  },
  {
   "cell_type": "code",
   "execution_count": 28,
   "id": "9834ece1-f72a-4dcb-b53c-e34d3bfcd057",
   "metadata": {},
   "outputs": [],
   "source": [
    "# make predictions\n",
    "y_pred_test= log.predict(X_test)\n"
   ]
  },
  {
   "cell_type": "code",
   "execution_count": 29,
   "id": "d230523f-5d52-41f8-abd9-187384ae5c19",
   "metadata": {},
   "outputs": [
    {
     "name": "stdout",
     "output_type": "stream",
     "text": [
      "Accuracy is 0.9047619047619048\n"
     ]
    }
   ],
   "source": [
    "# Check the results\n",
    "from sklearn.metrics import accuracy_score\n",
    "acc= accuracy_score(y_test, y_pred_test)\n",
    "print(f\"Accuracy is {acc}\")"
   ]
  },
  {
   "cell_type": "markdown",
   "id": "f5b997bc-1443-43ea-a8ed-c957804f5f54",
   "metadata": {},
   "source": [
    "## Serialization & Deserialization"
   ]
  },
  {
   "cell_type": "code",
   "execution_count": 30,
   "id": "b8b0e5a7-2e80-42ae-8d89-2b07ac3b7a74",
   "metadata": {},
   "outputs": [
    {
     "data": {
      "text/plain": [
       "['loan_trained_model_v1.pkl']"
      ]
     },
     "execution_count": 30,
     "metadata": {},
     "output_type": "execute_result"
    }
   ],
   "source": [
    "import joblib\n",
    "joblib.dump(log, \"loan_trained_model_v1.pkl\")"
   ]
  },
  {
   "cell_type": "code",
   "execution_count": 31,
   "id": "f0c38568-beca-42f6-b94b-8419d08fbe45",
   "metadata": {},
   "outputs": [],
   "source": [
    "# Deserialization\n",
    "final_model=joblib.load(\"loan_trained_model_v1.pkl\")"
   ]
  },
  {
   "cell_type": "code",
   "execution_count": 32,
   "id": "3e79c915-6028-4dc1-ada7-12756888c422",
   "metadata": {},
   "outputs": [
    {
     "data": {
      "text/plain": [
       "(array([-3.82022286]),\n",
       " array([[-0.04530185, -0.05854611,  0.03226989, -3.3298224 ,  2.41439262,\n",
       "         -0.15778844,  0.02388047,  0.26190246]]))"
      ]
     },
     "execution_count": 32,
     "metadata": {},
     "output_type": "execute_result"
    }
   ],
   "source": [
    "final_model.intercept_, final_model.coef_"
   ]
  },
  {
   "cell_type": "code",
   "execution_count": 33,
   "id": "0ad7fa3b-5b66-4c47-9139-cbd416d355fb",
   "metadata": {},
   "outputs": [
    {
     "data": {
      "text/plain": [
       "(array([-3.82022286]),\n",
       " array([[-0.04530185, -0.05854611,  0.03226989, -3.3298224 ,  2.41439262,\n",
       "         -0.15778844,  0.02388047,  0.26190246]]))"
      ]
     },
     "execution_count": 33,
     "metadata": {},
     "output_type": "execute_result"
    }
   ],
   "source": [
    "log.intercept_, log.coef_"
   ]
  },
  {
   "cell_type": "markdown",
   "id": "910c98ac-5ab3-4c21-aefa-a820a122d9a3",
   "metadata": {},
   "source": [
    "## Packages and Modules"
   ]
  },
  {
   "cell_type": "code",
   "execution_count": 34,
   "id": "f064a45b-fcd2-4151-9e08-dda70bbdd8a2",
   "metadata": {},
   "outputs": [],
   "source": [
    "import PackageA"
   ]
  },
  {
   "cell_type": "code",
   "execution_count": 35,
   "id": "26d3c512-fe3d-4bfa-959f-b25e4d68ef7a",
   "metadata": {},
   "outputs": [],
   "source": [
    "from PackageA import f1"
   ]
  },
  {
   "cell_type": "code",
   "execution_count": 36,
   "id": "bfa65990-dfdc-4c3b-b882-1b21c3e4fcc0",
   "metadata": {},
   "outputs": [],
   "source": [
    "from PackageA.SubPackageA import f3"
   ]
  },
  {
   "cell_type": "code",
   "execution_count": 37,
   "id": "9f74382e-4c66-4578-92c9-61afd4f91e61",
   "metadata": {},
   "outputs": [
    {
     "data": {
      "text/plain": [
       "'output from subPackage A f3'"
      ]
     },
     "execution_count": 37,
     "metadata": {},
     "output_type": "execute_result"
    }
   ],
   "source": [
    "f3.print_something()"
   ]
  },
  {
   "cell_type": "code",
   "execution_count": 38,
   "id": "4dacd42a-e142-4cd3-bec1-59a962a71d83",
   "metadata": {},
   "outputs": [],
   "source": [
    "from PackageA.f1 import print_something as f1p"
   ]
  },
  {
   "cell_type": "code",
   "execution_count": 39,
   "id": "44c4712a-a5e1-44be-8650-6ad2c80d50a3",
   "metadata": {},
   "outputs": [
    {
     "data": {
      "text/plain": [
       "'output from f1'"
      ]
     },
     "execution_count": 39,
     "metadata": {},
     "output_type": "execute_result"
    }
   ],
   "source": [
    "f1p()"
   ]
  },
  {
   "cell_type": "code",
   "execution_count": 40,
   "id": "f0db597a-400f-434e-bf97-07011c40f922",
   "metadata": {},
   "outputs": [],
   "source": [
    "import sys"
   ]
  },
  {
   "cell_type": "code",
   "execution_count": 41,
   "id": "ebf4fb89-05fb-427f-b5a8-c56106987112",
   "metadata": {},
   "outputs": [
    {
     "data": {
      "text/plain": [
       "['/Users/sumi/miniforge3/envs/MLOps/lib/python313.zip',\n",
       " '/Users/sumi/miniforge3/envs/MLOps/lib/python3.13',\n",
       " '/Users/sumi/miniforge3/envs/MLOps/lib/python3.13/lib-dynload',\n",
       " '',\n",
       " '/Users/sumi/miniforge3/envs/MLOps/lib/python3.13/site-packages']"
      ]
     },
     "execution_count": 41,
     "metadata": {},
     "output_type": "execute_result"
    }
   ],
   "source": [
    "sys.path"
   ]
  },
  {
   "cell_type": "code",
   "execution_count": null,
   "id": "1da59fb1-e00b-4566-96cd-f4a97e81dc65",
   "metadata": {},
   "outputs": [],
   "source": [
    "# If not in same directory\n",
    "sys.path.append('path to the directory') # mac or linux for wind c:\\\\path to dir"
   ]
  },
  {
   "cell_type": "code",
   "execution_count": 1,
   "id": "b2500ada-ec79-4bd0-a51a-f9f6067d2edc",
   "metadata": {},
   "outputs": [],
   "source": [
    "import pandas"
   ]
  },
  {
   "cell_type": "code",
   "execution_count": 2,
   "id": "d34a45e8-ebbf-4960-84c8-0f722b0bea0f",
   "metadata": {},
   "outputs": [
    {
     "data": {
      "text/plain": [
       "'2.2.3'"
      ]
     },
     "execution_count": 2,
     "metadata": {},
     "output_type": "execute_result"
    }
   ],
   "source": [
    "pandas.__version__"
   ]
  },
  {
   "cell_type": "code",
   "execution_count": 3,
   "id": "acd3a0a3-beb8-4648-96b8-777bc392685b",
   "metadata": {},
   "outputs": [
    {
     "data": {
      "text/plain": [
       "'2.1.2'"
      ]
     },
     "execution_count": 3,
     "metadata": {},
     "output_type": "execute_result"
    }
   ],
   "source": [
    "import numpy\n",
    "numpy.__version__"
   ]
  },
  {
   "cell_type": "code",
   "execution_count": 4,
   "id": "8b766205-f753-4a4b-a954-4b695b1bc524",
   "metadata": {},
   "outputs": [
    {
     "data": {
      "text/plain": [
       "'1.4.2'"
      ]
     },
     "execution_count": 4,
     "metadata": {},
     "output_type": "execute_result"
    }
   ],
   "source": [
    "import joblib\n",
    "joblib.__version__"
   ]
  },
  {
   "cell_type": "code",
   "execution_count": 5,
   "id": "8b781ad8-dc4e-4949-b32a-107d6cd862ec",
   "metadata": {},
   "outputs": [
    {
     "data": {
      "text/plain": [
       "'1.5.2'"
      ]
     },
     "execution_count": 5,
     "metadata": {},
     "output_type": "execute_result"
    }
   ],
   "source": [
    "import sklearn\n",
    "sklearn.__version__"
   ]
  },
  {
   "cell_type": "code",
   "execution_count": 6,
   "id": "dab2723f-a0d7-4a0a-82e3-416e8c87317a",
   "metadata": {},
   "outputs": [
    {
     "data": {
      "text/plain": [
       "'1.14.1'"
      ]
     },
     "execution_count": 6,
     "metadata": {},
     "output_type": "execute_result"
    }
   ],
   "source": [
    "import scipy\n",
    "scipy.__version__"
   ]
  },
  {
   "cell_type": "code",
   "execution_count": 7,
   "id": "a639b3df-19b4-4108-b965-ba4fe503b667",
   "metadata": {},
   "outputs": [
    {
     "data": {
      "text/plain": [
       "'75.3.0'"
      ]
     },
     "execution_count": 7,
     "metadata": {},
     "output_type": "execute_result"
    }
   ],
   "source": [
    "import setuptools\n",
    "setuptools.__version__"
   ]
  },
  {
   "cell_type": "code",
   "execution_count": 8,
   "id": "19b28d51-ce63-42f0-b6dc-77460be7e906",
   "metadata": {},
   "outputs": [
    {
     "data": {
      "text/plain": [
       "'0.43.0'"
      ]
     },
     "execution_count": 8,
     "metadata": {},
     "output_type": "execute_result"
    }
   ],
   "source": [
    "import wheel\n",
    "wheel.__version__"
   ]
  },
  {
   "cell_type": "code",
   "execution_count": null,
   "id": "fe5b0871-a704-474a-a976-cad55a5fe57d",
   "metadata": {},
   "outputs": [],
   "source": []
  }
 ],
 "metadata": {
  "kernelspec": {
   "display_name": "Python 3 (ipykernel)",
   "language": "python",
   "name": "python3"
  },
  "language_info": {
   "codemirror_mode": {
    "name": "ipython",
    "version": 3
   },
   "file_extension": ".py",
   "mimetype": "text/x-python",
   "name": "python",
   "nbconvert_exporter": "python",
   "pygments_lexer": "ipython3",
   "version": "3.13.0"
  }
 },
 "nbformat": 4,
 "nbformat_minor": 5
}
